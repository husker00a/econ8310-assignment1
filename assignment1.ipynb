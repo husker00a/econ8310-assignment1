{
 "cells": [
  {
   "cell_type": "code",
   "execution_count": 2,
   "id": "098b2971-5d7a-4d7f-aec2-3400a31a72b0",
   "metadata": {},
   "outputs": [
    {
     "name": "stderr",
     "output_type": "stream",
     "text": [
      "12:17:28 - cmdstanpy - INFO - Chain [1] start processing\n",
      "12:17:31 - cmdstanpy - INFO - Chain [1] done processing\n"
     ]
    }
   ],
   "source": [
    "# Importing Modules\n",
    "import pandas as pd, numpy as np\n",
    "from prophet import Prophet\n",
    "import plotly.express as px\n",
    "\n",
    "#Preparing Training Data\n",
    "trainData = pd.read_csv(\"https://github.com/dustywhite7/econ8310-assignment1/raw/main/assignment_data_train.csv\")\n",
    "trainData = trainData[['Timestamp','trips']]\n",
    "trainData.columns = ['ds', 'y']\n",
    "\n",
    "#Loading and fitting model\n",
    "model = Prophet(changepoint_prior_scale = 0.5)\n",
    "modelFit = model.fit(trainData)\n",
    "\n",
    "#Preparing Test Data\n",
    "testData = pd.read_csv(\"https://github.com/dustywhite7/econ8310-assignment1/raw/main/assignment_data_test.csv\")\n",
    "testData = testData[['Timestamp']]\n",
    "testData.columns = ['ds']\n",
    "\n",
    "#Getting Forecasting Data\n",
    "forecast = model.predict(testData)\n",
    "\n",
    "pred = forecast['yhat']"
   ]
  }
 ],
 "metadata": {
  "kernelspec": {
   "display_name": "Python 3 (ipykernel)",
   "language": "python",
   "name": "python3"
  },
  "language_info": {
   "codemirror_mode": {
    "name": "ipython",
    "version": 3
   },
   "file_extension": ".py",
   "mimetype": "text/x-python",
   "name": "python",
   "nbconvert_exporter": "python",
   "pygments_lexer": "ipython3",
   "version": "3.9.13"
  }
 },
 "nbformat": 4,
 "nbformat_minor": 5
}
